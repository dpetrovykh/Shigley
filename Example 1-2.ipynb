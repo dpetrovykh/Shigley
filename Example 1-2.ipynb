{
 "cells": [
  {
   "cell_type": "markdown",
   "metadata": {},
   "source": [
    "# 1-2_4"
   ]
  },
  {
   "cell_type": "markdown",
   "metadata": {},
   "source": [
    "Changes:\n",
    "* Place sympy helper code in external library\n",
    "* Streamline algebra\n",
    "* Place common equations in external library\n",
    "* Move numerical inputs to the top of the document\n",
    "\n",
    "Ignore:\n",
    "* Units. Will rely on use of consistent units\n"
   ]
  },
  {
   "cell_type": "markdown",
   "metadata": {},
   "source": [
    "# 1-2_3"
   ]
  },
  {
   "cell_type": "markdown",
   "metadata": {},
   "source": [
    "Changes:\n",
    "* Separated Table A-17 into an external library. \n",
    "* Modified inputs to use consistent units. \n",
    "* Displayed governing equations in readable format. \n",
    "* Perform all calculations, including algebraic ones, within body of document."
   ]
  },
  {
   "cell_type": "code",
   "execution_count": 1,
   "metadata": {},
   "outputs": [
    {
     "data": {
      "image/png": "[encoded data removed]",
      "text/latex": [
       "$\\displaystyle A = \\frac{\\pi d^{2}}{4}$"
      ],
      "text/plain": [
       "       2\n",
       "    π⋅d \n",
       "A = ────\n",
       "     4  "
      ]
     },
     "metadata": {},
     "output_type": "display_data"
    },
    {
     "data": {
      "image/png": "[encoded data removed]",
      "text/latex": [
       "$\\displaystyle \\sigma = \\frac{P}{A}$"
      ],
      "text/plain": [
       "         P\n",
       "\\sigma = ─\n",
       "         A"
      ]
     },
     "metadata": {},
     "output_type": "display_data"
    },
    {
     "data": {
      "image/png": "[encoded data removed]",
      "text/latex": [
       "$\\displaystyle n_{d} = \\frac{S}{\\sigma}$"
      ],
      "text/plain": [
       "        S   \n",
       "n_d = ──────\n",
       "      \\sigma"
      ]
     },
     "metadata": {},
     "output_type": "display_data"
    }
   ],
   "source": [
    "import sympy as sp\n",
    "sp.init_printing()\n",
    "P, S, n_d, A, d = sp.symbols(\"P S n_d A d\", real=True)\n",
    "sigma = sp.symbols(r\"\\sigma\", real=True)\n",
    "\n",
    "## Knowns\n",
    "# Solid rod in tension\n",
    "#P = 500 #[lbf] Load\n",
    "#S = 24 #[ksi] Material Strength\n",
    "#n_d = 3.0 #[-] Factor of Safety\n",
    "\n",
    "## Governing Equations\n",
    "# Equation for area of circle\n",
    "A_eq = sp.Eq(A,sp.pi*d**2/4)\n",
    "display (A_eq)\n",
    "\n",
    "# Equation for normal stress\n",
    "sigma_eq = sp.Eq(sigma, P/A)\n",
    "display(sigma_eq)\n",
    "\n",
    "#Equation for safety factor\n",
    "n_d_eq = sp.Eq(n_d, S/sigma)\n",
    "display(n_d_eq)"
   ]
  },
  {
   "cell_type": "code",
   "execution_count": 2,
   "metadata": {},
   "outputs": [],
   "source": [
    "def redefine(equality, symbol):\n",
    "    sol = sp.solve(equality, symbol)\n",
    "    #if len(sol) > 1:\n",
    "    #    raise Exception(f\"solution produces {len(sol)} possible results\")\n",
    "    return sp.Eq(symbol, sol[-1])\n",
    "\n",
    "def sub_in(target, sub):\n",
    "    sol = sp.solve((target, sub), (target.lhs, sub.lhs))\n",
    "    return sp.Eq(target.lhs, sol[0][0])"
   ]
  },
  {
   "cell_type": "code",
   "execution_count": 3,
   "metadata": {},
   "outputs": [
    {
     "data": {
      "image/png": "[encoded data removed]",
      "text/latex": [
       "$\\displaystyle d = \\frac{2 \\sqrt{A}}{\\sqrt{\\pi}}$"
      ],
      "text/plain": [
       "    2⋅√A\n",
       "d = ────\n",
       "     √π "
      ]
     },
     "metadata": {},
     "output_type": "display_data"
    },
    {
     "data": {
      "image/png": "[encoded data removed]",
      "text/latex": [
       "$\\displaystyle A = \\frac{P}{\\sigma}$"
      ],
      "text/plain": [
       "      P   \n",
       "A = ──────\n",
       "    \\sigma"
      ]
     },
     "metadata": {},
     "output_type": "display_data"
    },
    {
     "data": {
      "image/png": "[encoded data removed]",
      "text/latex": [
       "$\\displaystyle \\sigma = \\frac{S}{n_{d}}$"
      ],
      "text/plain": [
       "          S \n",
       "\\sigma = ───\n",
       "         n_d"
      ]
     },
     "metadata": {},
     "output_type": "display_data"
    }
   ],
   "source": [
    "# Perform algebraic manipulations to prepare for substition\n",
    "A_eq_d = redefine(A_eq, d)\n",
    "sigma_eq_A = redefine(sigma_eq, A)\n",
    "n_d_eq_sigma = redefine(n_d_eq, sigma)\n",
    "display(A_eq_d)\n",
    "display(sigma_eq_A)\n",
    "display(n_d_eq_sigma)"
   ]
  },
  {
   "cell_type": "code",
   "execution_count": 4,
   "metadata": {},
   "outputs": [
    {
     "data": {
      "image/png": "[encoded data removed]",
      "text/latex": [
       "$\\displaystyle d = \\frac{2 \\sqrt{\\frac{P}{\\sigma}}}{\\sqrt{\\pi}}$"
      ],
      "text/plain": [
       "          ________\n",
       "         ╱   P    \n",
       "    2⋅  ╱  ────── \n",
       "      ╲╱   \\sigma \n",
       "d = ──────────────\n",
       "          √π      "
      ]
     },
     "metadata": {},
     "output_type": "display_data"
    },
    {
     "data": {
      "image/png": "[encoded data removed]",
      "text/latex": [
       "$\\displaystyle d = \\frac{2 \\sqrt{\\frac{P n_{d}}{S}}}{\\sqrt{\\pi}}$"
      ],
      "text/plain": [
       "          _______\n",
       "         ╱ P⋅n_d \n",
       "    2⋅  ╱  ───── \n",
       "      ╲╱     S   \n",
       "d = ─────────────\n",
       "          √π     "
      ]
     },
     "metadata": {},
     "output_type": "display_data"
    }
   ],
   "source": [
    "# Perform substitutions to obtain equation for diameter\n",
    "A_eq_d = sub_in(A_eq_d, sigma_eq_A)\n",
    "display(A_eq_d)\n",
    "A_eq_d = sub_in(A_eq_d, n_d_eq_sigma)\n",
    "display(A_eq_d)"
   ]
  },
  {
   "cell_type": "code",
   "execution_count": 5,
   "metadata": {},
   "outputs": [
    {
     "data": {
      "text/plain": [
       "'Calculated ideal diameter = 0.28209479177387814'"
      ]
     },
     "metadata": {},
     "output_type": "display_data"
    }
   ],
   "source": [
    "# Solving for ideal diameter\n",
    "sub_vals = [\n",
    "    (P, 500), #[lbs] Load\n",
    "    (S, 24000), #[psi] material strength\n",
    "    (n_d, 3) #[-] safety factor\n",
    "]\n",
    "d_ideal = A_eq_d.subs(sub_vals).evalf()\n",
    "d_ideal_val = float(d_ideal.rhs)\n",
    "display(f\"Calculated ideal diameter = {d_ideal_val}\")"
   ]
  },
  {
   "cell_type": "code",
   "execution_count": 6,
   "metadata": {},
   "outputs": [
    {
     "data": {
      "text/plain": [
       "'Nearest fractional value found for 0.28209479177387814 is 0.3125'"
      ]
     },
     "metadata": {},
     "output_type": "display_data"
    }
   ],
   "source": [
    "# Find nearest standard fractional inch size\n",
    "import sys\n",
    "sys.path.append('..')\n",
    "from DPy.Shigley_Tables.Table_A_17 import Table_A_17\n",
    "table = Table_A_17()\n",
    "frac_val = table.nearest_greater(d_ideal_val, units = \"inch_frac\")\n",
    "display(f\"Nearest fractional value found for {d_ideal_val} is {frac_val}\")"
   ]
  },
  {
   "cell_type": "code",
   "execution_count": 7,
   "metadata": {},
   "outputs": [
    {
     "data": {
      "image/png": "[encoded data removed]",
      "text/latex": [
       "$\\displaystyle n_{d} = \\frac{\\pi S d^{2}}{4 P}$"
      ],
      "text/plain": [
       "           2\n",
       "      π⋅S⋅d \n",
       "n_d = ──────\n",
       "       4⋅P  "
      ]
     },
     "metadata": {},
     "output_type": "display_data"
    },
    {
     "data": {
      "text/plain": [
       "'New safety factor calculated as 3.6815538909255388 for diameter of 0.3125 inches'"
      ]
     },
     "metadata": {},
     "output_type": "display_data"
    }
   ],
   "source": [
    "# Recalculate factor of safety\n",
    "n_d_eq = redefine(A_eq_d, n_d)\n",
    "display(n_d_eq)\n",
    "sub_vals = sub_vals[0:2]+[(d, frac_val)] #[in] diameter of rod\n",
    "new_n_d = float(n_d_eq.subs(sub_vals).evalf().rhs)\n",
    "display(f\"New safety factor calculated as {new_n_d} for diameter of {frac_val} inches\")"
   ]
  },
  {
   "cell_type": "markdown",
   "metadata": {},
   "source": [
    "Reflection\n",
    "\n",
    "Pros:\n",
    "* Input units clearly documented\n",
    "* Reacts to changing input values\n",
    "* Text outputs react to changing values\n",
    "* Code for Table_A_17 lookup recycled from elsewhere\n",
    "* Derivation of solution clearly followable and completely captured within document\n",
    "* All inputs are first to converted to compatible unit system\n",
    "\n",
    "\n",
    "Cons:\n",
    "* Does not react to changing units\n",
    "* Unit handling is manual and error-prone\n",
    "* Quite a large document\n",
    "* Took great effort to write(hopefully it will get easier)\n",
    "* Define helper functions for sympy equations within body of document. Better to recycle from library.\n",
    "* Manually defined common functions for area, stress, safety factor"
   ]
  },
  {
   "cell_type": "markdown",
   "metadata": {},
   "source": [
    "# 1-2_2"
   ]
  },
  {
   "cell_type": "markdown",
   "metadata": {},
   "source": [
    "Added automated lookup of values from Table A-17. Modified output messages to update numerical values"
   ]
  },
  {
   "cell_type": "code",
   "execution_count": 8,
   "metadata": {},
   "outputs": [],
   "source": [
    "from math import sqrt, pi\n",
    "\n",
    "## Knowns\n",
    "# Solid rod in tension\n",
    "P = 500 #[lbf] Load\n",
    "S = 24 #[ksi] Material Strength\n",
    "n_d = 3.0 #[-] Factor of Safety\n",
    "\n",
    "## Desired\n",
    "# d_min - Minimum diameter of solid rod\n",
    "# Use common sizes in Shigley table A-17\n",
    "# Calculate new factor of safety\n",
    "\n",
    "## Solution\n",
    "d = sqrt((4*P*n_d)/(pi*S*1000)) #[in] optimal diameter which provides specified factor of safety"
   ]
  },
  {
   "cell_type": "code",
   "execution_count": 9,
   "metadata": {
    "scrolled": false
   },
   "outputs": [
    {
     "data": {
      "text/plain": [
       "'The optimal calculated value is 0.28209479177387814, which must be fed into Table A-17 and the closest larger value found. A new safety factor will then be recalculated.'"
      ]
     },
     "metadata": {},
     "output_type": "display_data"
    }
   ],
   "source": [
    "display(f\"The optimal calculated value is {d}, which must be fed into Table A-17 and the closest larger value found. A new safety factor will then be recalculated.\")"
   ]
  },
  {
   "cell_type": "code",
   "execution_count": 10,
   "metadata": {},
   "outputs": [
    {
     "data": {
      "text/plain": [
       "'Nearest common size found: 0.3'"
      ]
     },
     "metadata": {},
     "output_type": "display_data"
    }
   ],
   "source": [
    "A_17_dec = [0.01, 0.012, 0.016, 0.020, 0.025, 0.032, 0.040, 0.05, 0.06, 0.08, 0.10, 0.12, 0.16, 0.20, 0.24, 0.30, 0.40, 0.50, 0.60, 0.80, 1.00, 1.20, 1.40, 1.60, 1.80, 2.0, 2.4, 2.6, 2.8, 3.0, 3.2, 3.4, 3.6, 3.8, 4.0, 4.2, 4.4, 4.6, 4.8, 5.0, 5.2, 5.4, 5.6, 5.8, 6.0, 7.0, 7.5, 8.5, 9.0, 9.5, 10.0, 10.5, 11.0, 11.5, 12.0, 12.5, 13.0, 13.5, 14.0, 14.5, 15.0, 15.5, 16.0, 16.5, 17.0, 17.5, 18.0, 18.5, 19.0, 19.5, 20]\n",
    "for index, value in enumerate(A_17_dec):\n",
    "    if d<value:\n",
    "        display(f\"Nearest common size found: {A_17_dec[index]}\")\n",
    "        d_closest = A_17_dec[index]\n",
    "        break "
   ]
  },
  {
   "cell_type": "code",
   "execution_count": 11,
   "metadata": {},
   "outputs": [
    {
     "data": {
      "text/plain": [
       "'Factor of safety calculated to be 3.3929200658769765 with d= 0.3'"
      ]
     },
     "metadata": {},
     "output_type": "display_data"
    }
   ],
   "source": [
    "n_d = (S*1000*pi*d_closest**2)/(4*P)\n",
    "display(f\"Factor of safety calculated to be {n_d} with d= {d_closest}\")"
   ]
  },
  {
   "cell_type": "markdown",
   "metadata": {},
   "source": [
    "Reflection\n",
    "\n",
    "Pros:\n",
    "* Input units clearly documented\n",
    "* Reacts to changing input values\n",
    "* Text outputs react to changing values\n",
    "* No manual lookup neccessary\n",
    "\n",
    "Cons:\n",
    "* Equations derived elsewhere, making a double-check quite difficult\n",
    "* Does not react to changing units\n",
    "* Difficult to read the equations. As a result, difficult to debug or check units\n",
    "* Unit handling is manual (like multiplying by 1000 mid-equation) and error-prone\n",
    "* Requires manual insertion of table A-17 data into code, which is time-consuming and cumbersome."
   ]
  },
  {
   "cell_type": "markdown",
   "metadata": {},
   "source": [
    "# 1-2_1"
   ]
  },
  {
   "cell_type": "markdown",
   "metadata": {},
   "source": [
    "Simple scripting approach similar to what is commonly seen in Matlab."
   ]
  },
  {
   "cell_type": "code",
   "execution_count": 12,
   "metadata": {},
   "outputs": [
    {
     "data": {
      "image/png": "[encoded data removed]",
      "text/latex": [
       "$\\displaystyle 0.5641895835477563$"
      ],
      "text/plain": [
       "0.5641895835477563"
      ]
     },
     "metadata": {},
     "output_type": "display_data"
    }
   ],
   "source": [
    "from math import sqrt, pi\n",
    "\n",
    "## Knowns\n",
    "# Solid rod in tension\n",
    "P = 2000 #[lbf] Load\n",
    "S = 24 #[ksi] Material Strength\n",
    "n_d = 3.0 #[-] Factor of Safety\n",
    "\n",
    "## Desired\n",
    "# d_min - Minimum diameter of solid rod\n",
    "# Use common sizes in Shigley table A-17\n",
    "# Calculate new factor of safety\n",
    "\n",
    "## Solution\n",
    "d = sqrt((4*P*n_d)/(pi*S*1000))\n",
    "display(d)"
   ]
  },
  {
   "cell_type": "markdown",
   "metadata": {},
   "source": [
    "The optimal calculated value is 0.56, which is manually looked up in Table A-17 and the closest larger fractional value is 0.625. Now the new safety factor must be calculated."
   ]
  },
  {
   "cell_type": "code",
   "execution_count": 13,
   "metadata": {},
   "outputs": [
    {
     "data": {
      "image/png": "[encoded data removed]",
      "text/latex": [
       "$\\displaystyle 3.6815538909255388$"
      ],
      "text/plain": [
       "3.6815538909255388"
      ]
     },
     "metadata": {},
     "output_type": "display_data"
    }
   ],
   "source": [
    "n_d = (S*1000*pi*0.625**2)/(4*P)\n",
    "display(n_d)"
   ]
  },
  {
   "cell_type": "markdown",
   "metadata": {},
   "source": [
    "Conclusion:\n",
    "The final factor of safety is 3.68 using a 0.625 inch diameter solid rod."
   ]
  },
  {
   "cell_type": "markdown",
   "metadata": {},
   "source": [
    "Reflection\n",
    "\n",
    "Pros:\n",
    "* Input units clearly documented\n",
    "* Reacts to changing input values\n",
    "* Easy to setup and get a quick answer\n",
    "\n",
    "Cons:\n",
    "* Equations derived elsewhere, making a double-check quite difficult\n",
    "* Does not react to changing units\n",
    "* Difficult to read the equations. As a result, difficult to debug or check units\n",
    "* Unit handling is manual (like multiplying by 1000 mid-equation) and error-prone\n",
    "* Modification of input values requires manual lookup of diameter in table A-17 and insertion into final equation.\n",
    "* Final display of answer does not update numerical answer\n",
    "* Final display on answer does not provide the context of input values neccessary to understand output.\n"
   ]
  },
  {
   "cell_type": "code",
   "execution_count": null,
   "metadata": {},
   "outputs": [],
   "source": []
  }
 ],
 "metadata": {
  "kernelspec": {
   "display_name": "Python 3",
   "language": "python",
   "name": "python3"
  },
  "language_info": {
   "codemirror_mode": {
    "name": "ipython",
    "version": 3
   },
   "file_extension": ".py",
   "mimetype": "text/x-python",
   "name": "python",
   "nbconvert_exporter": "python",
   "pygments_lexer": "ipython3",
   "version": "3.8.3"
  }
 },
 "nbformat": 4,
 "nbformat_minor": 4
}
